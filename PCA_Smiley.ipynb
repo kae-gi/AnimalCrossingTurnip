{
 "cells": [
  {
   "cell_type": "markdown",
   "id": "d50e38c0",
   "metadata": {},
   "source": [
    "## Problem 1\n",
    "\n",
    "The data file prob-1.csv contains 320 datapoints, each of which is a point in  ℝ8 .\n",
    "\n",
    "To make this file, I started with a 2-dimensional cloud of points  (𝑥0,𝑦0),…,(𝑥320,𝑦320)  in the shape of a happy face. I then appended 6 small random-ish numbers to each point  (𝑥𝑖,𝑦𝑖) , getting a point in  ℝ8 . For most of the points, the random numbers I appended were all much smaller than  |𝑥𝑖|  or  |𝑦𝑖| . So, for instance, maybe one of the resulting points was something like\n",
    "(𝑥1,𝑦1,0.2351231,0.9539321,0.0048348,0.0083756,0.0048485,0.00171848),\n",
    " \n",
    "with  𝑥1  and  𝑦1  being about 30 or 40 or so.\n",
    "\n",
    "At this point I have a thin point cloud in  ℝ𝟠  in the shape of a happy face. The last thing that I did was to choose a random 8 by 8 orthogonal matrix  𝑀 , and to multiply each of the data points by  𝑀  (thereby randomly rotating the point cloud in  ℝ8 ; I used the same  𝑀  on all the points).\n",
    "\n",
    "Show me as close to the original happy face image as you can.\n",
    "\n",
    "Problem from Math 352 Class..."
   ]
  },
  {
   "cell_type": "code",
   "execution_count": 2,
   "id": "e5af7764",
   "metadata": {},
   "outputs": [
    {
     "data": {
      "image/png": "[encoded data removed]",
      "text/plain": [
       "<Figure size 432x288 with 1 Axes>"
      ]
     },
     "metadata": {},
     "output_type": "display_data"
    }
   ],
   "source": [
    "import numpy as np\n",
    "import pandas as pd\n",
    "import matplotlib.pyplot as plt\n",
    "\n",
    "x = pd.read_csv(\"prob-1.csv\", names=[\"x1\", \"y1\", \"p1\", \"p2\", \"p3\", \"p4\", \"p5\", \"p6\"])\n",
    "\n",
    "# present data as an array/matrix\n",
    "x1 = x[\"x1\"]\n",
    "y1 = x[\"y1\"]\n",
    "p1 = x[\"p1\"]\n",
    "p2 = x[\"p2\"]\n",
    "p3 = x[\"p3\"]\n",
    "p4 = x[\"p4\"]\n",
    "p5 = x[\"p5\"]\n",
    "p6 = x[\"p6\"]\n",
    "\n",
    "A = np.array([x1, y1, p1, p2, p3, p4, p5, p6])\n",
    "A = A.T  # transpose so data appears correct \n",
    "\n",
    "# perform singular value decomposition\n",
    "data = np.linalg.svd(A, full_matrices=True)\n",
    "U = data[0]\n",
    "S = data[1]\n",
    "VT = data[2]\n",
    "\n",
    "# check to make sure AV = US\n",
    "V = VT.T\n",
    "AV = np.matmul(A, V)\n",
    "US = U[:, :8] * S\n",
    "np.allclose(AV, US) \n",
    "\n",
    "# project data so we isolate the x and y pts\n",
    "P = np.array([[1, 0], [0, 1], [0, 0], [0, 0], [0, 0], [0, 0], [0, 0], [0, 0]])\n",
    "PUS = np.matmul(US, P)\n",
    "\n",
    "# get matrix VP\n",
    "VP = np.matmul(V, P)\n",
    "\n",
    "# multiply VP by some length-8 row input vector\n",
    "aVPs = []\n",
    "for row in A:\n",
    "    aVP = np.matmul(row, VP)\n",
    "    aVPs.append(aVP)\n",
    "    \n",
    "# plot data\n",
    "import matplotlib.pyplot as plt \n",
    "plt.style.use('seaborn-whitegrid')\n",
    "\n",
    "x = np.array([aVPs[i][0] for i in range(len(aVPs))])\n",
    "y = np.array([aVPs[i][1] for i in range(len(aVPs))])\n",
    "\n",
    "# Plotting\n",
    "plt.scatter(x, y,color='r',marker='o')\n",
    "plt.show()"
   ]
  },
  {
   "cell_type": "code",
   "execution_count": null,
   "id": "bd0e6e13",
   "metadata": {},
   "outputs": [],
   "source": []
  }
 ],
 "metadata": {
  "kernelspec": {
   "display_name": "Python 3 (ipykernel)",
   "language": "python",
   "name": "python3"
  },
  "language_info": {
   "codemirror_mode": {
    "name": "ipython",
    "version": 3
   },
   "file_extension": ".py",
   "mimetype": "text/x-python",
   "name": "python",
   "nbconvert_exporter": "python",
   "pygments_lexer": "ipython3",
   "version": "3.9.7"
  }
 },
 "nbformat": 4,
 "nbformat_minor": 5
}
